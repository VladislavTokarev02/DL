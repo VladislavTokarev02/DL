{
  "nbformat": 4,
  "nbformat_minor": 0,
  "metadata": {
    "colab": {
      "provenance": [],
      "gpuType": "T4",
      "include_colab_link": true
    },
    "kernelspec": {
      "name": "python3",
      "display_name": "Python 3"
    },
    "language_info": {
      "name": "python"
    },
    "accelerator": "GPU"
  },
  "cells": [
    {
      "cell_type": "markdown",
      "metadata": {
        "id": "view-in-github",
        "colab_type": "text"
      },
      "source": [
        "<a href=\"https://colab.research.google.com/github/VladislavTokarev02/DL/blob/main/first_NN.ipynb\" target=\"_parent\"><img src=\"https://colab.research.google.com/assets/colab-badge.svg\" alt=\"Open In Colab\"/></a>"
      ]
    },
    {
      "cell_type": "markdown",
      "source": [
        "# Домашнее задание\n",
        "\n",
        "В этом домашнем задании вы обучите полносвязную нейронную сеть для решения задачи классификации на датасете CIFAR-10."
      ],
      "metadata": {
        "id": "I6ymSdFRMVhr"
      }
    },
    {
      "cell_type": "markdown",
      "source": [
        "Это домашнее задание оформлено в не совсем традиционном формате. Не хочется заставлять вас копировать код. Вы будете менять уже существующую архитектуру, а затем отвечать на вопросы."
      ],
      "metadata": {
        "id": "x8hIUNzwgV3s"
      }
    },
    {
      "cell_type": "markdown",
      "source": [
        "## Задание 1\n",
        "\n",
        "Запустите данный изначально код и замерьте качество (accuracy) на тестовых данных. Ответ округлите до целого числа.\n",
        "\n",
        "## Задание 2\n",
        "\n",
        "Добавьте еще один полносвязный слой (перед выходным) из 100 нейронов + функцию активации ReLU и запустите обучение. Выберите в ответе accuracy, наиболее близкую к полученной на тесте.\n",
        "\n",
        "## Задание 3\n",
        "\n",
        "Теперь обучите полносвязную сеть с несколькими линейными слоями с числом нейронов: 1024, 512, 256, 128, 64 соответственно + функцией ReLU на выходе из каждого внутреннего слоя. В ответе - accuracy, округленная до целого числа.\n",
        "\n",
        "## Задание 4\n",
        "\n",
        "К архитектуре из предыдущего задания добавьте Dropout(0.2) перед слоями из 1024 и 256 нейронов. Увеличилась ли accuracy по сравнению с предыдущим заданием?\n",
        "\n",
        "## Задание 5\n",
        "\n",
        "Уберите Dropout, но добавьте BatchNorm перед входом в те же линейные слои. Увеличилась ли accuracy по сравнению с заданием 3?\n",
        "\n",
        "## Задание 6\n",
        "\n",
        "Теперь пробуйте что угодно:\n",
        "* разное число линейных слоев\n",
        "* разные функции активации (вместо ReLU)\n",
        "* комбинации Dropout / BatchNorm\n",
        "* можете попробовать умные инициализации весов и другие трюки из урока\n",
        "\n",
        "Цель - добиться наибольшей accuracy на тесте."
      ],
      "metadata": {
        "id": "zKUC8Iqn0K04"
      }
    },
    {
      "cell_type": "code",
      "source": [
        "import torch\n",
        "import torch.nn as nn\n",
        "import torchvision\n",
        "import torchvision.transforms as transforms\n",
        "import random\n",
        "import numpy as np\n",
        "\n",
        "def seed():\n",
        "  np.random.seed(0)\n",
        "  random.seed(0)\n",
        "  torch.manual_seed(0)\n",
        "\n",
        "seed()"
      ],
      "metadata": {
        "id": "klXu4u9XHNtG"
      },
      "execution_count": 1,
      "outputs": []
    },
    {
      "cell_type": "code",
      "source": [
        "# Check Device configuration\n",
        "device = torch.device('cuda' if torch.cuda.is_available() else 'cpu')\n",
        "\n",
        "# Define Hyper-parameters\n",
        "input_size = 3072\n",
        "num_classes = 10\n",
        "num_epochs = 10\n",
        "batch_size = 32\n",
        "learning_rate = 0.0001"
      ],
      "metadata": {
        "id": "4ZugxMyOHKvw"
      },
      "execution_count": 2,
      "outputs": []
    },
    {
      "cell_type": "code",
      "source": [
        "# MNIST dataset\n",
        "transform = transforms.Compose(\n",
        "    [transforms.ToTensor(),\n",
        "     transforms.Normalize((0.5, 0.5, 0.5), (0.5, 0.5, 0.5))])\n",
        "\n",
        "train_dataset = torchvision.datasets.CIFAR10(root='../../data',\n",
        "                                           train=True,\n",
        "                                           transform=transform,\n",
        "                                           download=True)\n",
        "\n",
        "test_dataset = torchvision.datasets.CIFAR10(root='../../data',\n",
        "                                          train=False,\n",
        "                                          transform=transform)"
      ],
      "metadata": {
        "id": "esjzDEyIHNvE"
      },
      "execution_count": 3,
      "outputs": []
    },
    {
      "cell_type": "code",
      "source": [
        "# Data loader\n",
        "seed()\n",
        "train_loader = torch.utils.data.DataLoader(dataset=train_dataset,\n",
        "                                           batch_size=batch_size,\n",
        "                                           shuffle=True)\n",
        "\n",
        "test_loader = torch.utils.data.DataLoader(dataset=test_dataset,\n",
        "                                          batch_size=batch_size,\n",
        "                                          shuffle=False)"
      ],
      "metadata": {
        "id": "wbNr0TWOHVRI"
      },
      "execution_count": 4,
      "outputs": []
    },
    {
      "cell_type": "code",
      "source": [
        "# Fully connected neural network\n",
        "class NeuralNet(nn.Module):\n",
        "    def __init__(self, input_size, num_classes):\n",
        "        super(NeuralNet, self).__init__()\n",
        "        seed()\n",
        "        self.fc1 = nn.Linear(input_size, 1024)\n",
        "        self.leaky_relu = nn.LeakyReLU(negative_slope=0.01)\n",
        "        self.bn1 = nn.BatchNorm1d(1024)\n",
        "        self.fc2 = nn.Linear(1024, 512)\n",
        "        self.fc3 = nn.Linear(512, 256)\n",
        "        self.bn2 = nn.BatchNorm1d(256)\n",
        "        self.fc4 = nn.Linear(256, 128)\n",
        "        self.fc5 = nn.Linear(128, 64)\n",
        "        self.fc6 = nn.Linear(64, 32)\n",
        "        self.fc7 = nn.Linear(32, num_classes)\n",
        "#        self.apply(self._init_weights)\n",
        "\n",
        "    def _init_weights(self, module): # метод для различных \"умных\" инициализаций весов\n",
        "        seed()\n",
        "        if isinstance(module, nn.Linear):\n",
        "            module.weight.data.normal_(mean=0.0, std=0.15)\n",
        "            if module.bias is not None:\n",
        "                module.bias.data.zero_()\n",
        "\n",
        "    def forward(self, x):\n",
        "        out = self.fc1(x)\n",
        "        out = self.leaky_relu(out)\n",
        "        out = self.bn1(out)\n",
        "        out = self.fc2(out)\n",
        "        out = self.leaky_relu(out)\n",
        "        out = self.fc3(out)\n",
        "        out = self.leaky_relu(out)\n",
        "        out = self.bn2(out)\n",
        "        out = self.fc4(out)\n",
        "        out = self.leaky_relu(out)\n",
        "        out = self.fc5(out)\n",
        "        out = self.leaky_relu(out)\n",
        "        out = self.fc6(out)\n",
        "        out = self.leaky_relu(out)\n",
        "        out = self.fc7(out)\n",
        "        return out\n",
        "\n",
        "model = NeuralNet(input_size, num_classes).to(device)"
      ],
      "metadata": {
        "id": "eo2rzAFTHXZo"
      },
      "execution_count": 5,
      "outputs": []
    },
    {
      "cell_type": "code",
      "source": [
        "model"
      ],
      "metadata": {
        "id": "SUyBhEPgeCxr",
        "colab": {
          "base_uri": "https://localhost:8080/"
        },
        "outputId": "eeaab1e5-e0ee-4fa4-ba9c-436e1b56e5fa"
      },
      "execution_count": 6,
      "outputs": [
        {
          "output_type": "execute_result",
          "data": {
            "text/plain": [
              "NeuralNet(\n",
              "  (fc1): Linear(in_features=3072, out_features=1024, bias=True)\n",
              "  (leaky_relu): LeakyReLU(negative_slope=0.01)\n",
              "  (bn1): BatchNorm1d(1024, eps=1e-05, momentum=0.1, affine=True, track_running_stats=True)\n",
              "  (fc2): Linear(in_features=1024, out_features=512, bias=True)\n",
              "  (fc3): Linear(in_features=512, out_features=256, bias=True)\n",
              "  (bn2): BatchNorm1d(256, eps=1e-05, momentum=0.1, affine=True, track_running_stats=True)\n",
              "  (fc4): Linear(in_features=256, out_features=128, bias=True)\n",
              "  (fc5): Linear(in_features=128, out_features=64, bias=True)\n",
              "  (fc6): Linear(in_features=64, out_features=32, bias=True)\n",
              "  (fc7): Linear(in_features=32, out_features=10, bias=True)\n",
              ")"
            ]
          },
          "metadata": {},
          "execution_count": 6
        }
      ]
    },
    {
      "cell_type": "code",
      "source": [
        "# Loss and optimizer\n",
        "criterion = nn.CrossEntropyLoss()\n",
        "optimizer = torch.optim.Adam(model.parameters(), lr=learning_rate)"
      ],
      "metadata": {
        "id": "7pwBBTACHa5i"
      },
      "execution_count": 7,
      "outputs": []
    },
    {
      "cell_type": "code",
      "execution_count": 8,
      "metadata": {
        "id": "amZzGJCmFnpp",
        "colab": {
          "base_uri": "https://localhost:8080/"
        },
        "outputId": "7aa9de47-7528-4a4e-b50d-6bbba48cccae"
      },
      "outputs": [
        {
          "output_type": "stream",
          "name": "stdout",
          "text": [
            "Epoch [1/10], Step [100/1563], Loss: 2.2514\n",
            "Epoch [1/10], Step [200/1563], Loss: 2.1734\n",
            "Epoch [1/10], Step [300/1563], Loss: 1.9214\n",
            "Epoch [1/10], Step [400/1563], Loss: 1.9878\n",
            "Epoch [1/10], Step [500/1563], Loss: 1.8170\n",
            "Epoch [1/10], Step [600/1563], Loss: 1.8049\n",
            "Epoch [1/10], Step [700/1563], Loss: 1.7768\n",
            "Epoch [1/10], Step [800/1563], Loss: 1.8159\n",
            "Epoch [1/10], Step [900/1563], Loss: 1.7055\n",
            "Epoch [1/10], Step [1000/1563], Loss: 1.4015\n",
            "Epoch [1/10], Step [1100/1563], Loss: 1.8168\n",
            "Epoch [1/10], Step [1200/1563], Loss: 1.7060\n",
            "Epoch [1/10], Step [1300/1563], Loss: 1.5610\n",
            "Epoch [1/10], Step [1400/1563], Loss: 1.6189\n",
            "Epoch [1/10], Step [1500/1563], Loss: 1.4763\n",
            "Epoch [2/10], Step [100/1563], Loss: 1.5376\n",
            "Epoch [2/10], Step [200/1563], Loss: 1.2786\n",
            "Epoch [2/10], Step [300/1563], Loss: 1.4562\n",
            "Epoch [2/10], Step [400/1563], Loss: 1.6305\n",
            "Epoch [2/10], Step [500/1563], Loss: 1.4385\n",
            "Epoch [2/10], Step [600/1563], Loss: 1.6288\n",
            "Epoch [2/10], Step [700/1563], Loss: 1.4042\n",
            "Epoch [2/10], Step [800/1563], Loss: 1.7240\n",
            "Epoch [2/10], Step [900/1563], Loss: 1.4384\n",
            "Epoch [2/10], Step [1000/1563], Loss: 1.1302\n",
            "Epoch [2/10], Step [1100/1563], Loss: 1.2637\n",
            "Epoch [2/10], Step [1200/1563], Loss: 1.5479\n",
            "Epoch [2/10], Step [1300/1563], Loss: 1.6333\n",
            "Epoch [2/10], Step [1400/1563], Loss: 1.4522\n",
            "Epoch [2/10], Step [1500/1563], Loss: 1.4914\n",
            "Epoch [3/10], Step [100/1563], Loss: 1.4152\n",
            "Epoch [3/10], Step [200/1563], Loss: 1.4467\n",
            "Epoch [3/10], Step [300/1563], Loss: 1.3068\n",
            "Epoch [3/10], Step [400/1563], Loss: 1.1745\n",
            "Epoch [3/10], Step [500/1563], Loss: 1.1196\n",
            "Epoch [3/10], Step [600/1563], Loss: 1.6760\n",
            "Epoch [3/10], Step [700/1563], Loss: 1.1251\n",
            "Epoch [3/10], Step [800/1563], Loss: 1.5427\n",
            "Epoch [3/10], Step [900/1563], Loss: 1.0836\n",
            "Epoch [3/10], Step [1000/1563], Loss: 1.2554\n",
            "Epoch [3/10], Step [1100/1563], Loss: 1.3596\n",
            "Epoch [3/10], Step [1200/1563], Loss: 1.2921\n",
            "Epoch [3/10], Step [1300/1563], Loss: 0.9889\n",
            "Epoch [3/10], Step [1400/1563], Loss: 1.1928\n",
            "Epoch [3/10], Step [1500/1563], Loss: 1.2670\n",
            "Epoch [4/10], Step [100/1563], Loss: 1.1872\n",
            "Epoch [4/10], Step [200/1563], Loss: 1.1881\n",
            "Epoch [4/10], Step [300/1563], Loss: 1.3650\n",
            "Epoch [4/10], Step [400/1563], Loss: 0.9107\n",
            "Epoch [4/10], Step [500/1563], Loss: 1.2800\n",
            "Epoch [4/10], Step [600/1563], Loss: 1.1680\n",
            "Epoch [4/10], Step [700/1563], Loss: 1.2647\n",
            "Epoch [4/10], Step [800/1563], Loss: 1.4091\n",
            "Epoch [4/10], Step [900/1563], Loss: 1.1899\n",
            "Epoch [4/10], Step [1000/1563], Loss: 1.1291\n",
            "Epoch [4/10], Step [1100/1563], Loss: 1.0299\n",
            "Epoch [4/10], Step [1200/1563], Loss: 0.9094\n",
            "Epoch [4/10], Step [1300/1563], Loss: 1.2287\n",
            "Epoch [4/10], Step [1400/1563], Loss: 1.4302\n",
            "Epoch [4/10], Step [1500/1563], Loss: 1.0179\n",
            "Epoch [5/10], Step [100/1563], Loss: 1.4434\n",
            "Epoch [5/10], Step [200/1563], Loss: 0.8454\n",
            "Epoch [5/10], Step [300/1563], Loss: 1.2085\n",
            "Epoch [5/10], Step [400/1563], Loss: 0.7877\n",
            "Epoch [5/10], Step [500/1563], Loss: 1.0229\n",
            "Epoch [5/10], Step [600/1563], Loss: 0.8925\n",
            "Epoch [5/10], Step [700/1563], Loss: 1.0642\n",
            "Epoch [5/10], Step [800/1563], Loss: 1.2202\n",
            "Epoch [5/10], Step [900/1563], Loss: 1.5884\n",
            "Epoch [5/10], Step [1000/1563], Loss: 1.0398\n",
            "Epoch [5/10], Step [1100/1563], Loss: 1.3790\n",
            "Epoch [5/10], Step [1200/1563], Loss: 1.0470\n",
            "Epoch [5/10], Step [1300/1563], Loss: 0.9688\n",
            "Epoch [5/10], Step [1400/1563], Loss: 0.9906\n",
            "Epoch [5/10], Step [1500/1563], Loss: 1.0531\n",
            "Epoch [6/10], Step [100/1563], Loss: 1.2063\n",
            "Epoch [6/10], Step [200/1563], Loss: 0.9624\n",
            "Epoch [6/10], Step [300/1563], Loss: 0.7512\n",
            "Epoch [6/10], Step [400/1563], Loss: 0.9074\n",
            "Epoch [6/10], Step [500/1563], Loss: 1.0211\n",
            "Epoch [6/10], Step [600/1563], Loss: 1.2835\n",
            "Epoch [6/10], Step [700/1563], Loss: 1.0764\n",
            "Epoch [6/10], Step [800/1563], Loss: 1.3144\n",
            "Epoch [6/10], Step [900/1563], Loss: 1.0843\n",
            "Epoch [6/10], Step [1000/1563], Loss: 1.2013\n",
            "Epoch [6/10], Step [1100/1563], Loss: 1.3213\n",
            "Epoch [6/10], Step [1200/1563], Loss: 1.3724\n",
            "Epoch [6/10], Step [1300/1563], Loss: 1.0884\n",
            "Epoch [6/10], Step [1400/1563], Loss: 1.3744\n",
            "Epoch [6/10], Step [1500/1563], Loss: 1.2676\n",
            "Epoch [7/10], Step [100/1563], Loss: 1.2303\n",
            "Epoch [7/10], Step [200/1563], Loss: 1.0525\n",
            "Epoch [7/10], Step [300/1563], Loss: 1.0585\n",
            "Epoch [7/10], Step [400/1563], Loss: 0.9152\n",
            "Epoch [7/10], Step [500/1563], Loss: 1.2567\n",
            "Epoch [7/10], Step [600/1563], Loss: 1.2646\n",
            "Epoch [7/10], Step [700/1563], Loss: 1.2099\n",
            "Epoch [7/10], Step [800/1563], Loss: 0.8647\n",
            "Epoch [7/10], Step [900/1563], Loss: 1.0132\n",
            "Epoch [7/10], Step [1000/1563], Loss: 1.0014\n",
            "Epoch [7/10], Step [1100/1563], Loss: 0.9978\n",
            "Epoch [7/10], Step [1200/1563], Loss: 1.1739\n",
            "Epoch [7/10], Step [1300/1563], Loss: 1.3097\n",
            "Epoch [7/10], Step [1400/1563], Loss: 1.0021\n",
            "Epoch [7/10], Step [1500/1563], Loss: 0.9943\n",
            "Epoch [8/10], Step [100/1563], Loss: 0.9529\n",
            "Epoch [8/10], Step [200/1563], Loss: 0.9801\n",
            "Epoch [8/10], Step [300/1563], Loss: 0.7098\n",
            "Epoch [8/10], Step [400/1563], Loss: 0.6918\n",
            "Epoch [8/10], Step [500/1563], Loss: 0.7050\n",
            "Epoch [8/10], Step [600/1563], Loss: 0.8576\n",
            "Epoch [8/10], Step [700/1563], Loss: 1.2072\n",
            "Epoch [8/10], Step [800/1563], Loss: 0.8725\n",
            "Epoch [8/10], Step [900/1563], Loss: 1.0503\n",
            "Epoch [8/10], Step [1000/1563], Loss: 1.0023\n",
            "Epoch [8/10], Step [1100/1563], Loss: 1.2666\n",
            "Epoch [8/10], Step [1200/1563], Loss: 1.1114\n",
            "Epoch [8/10], Step [1300/1563], Loss: 1.1007\n",
            "Epoch [8/10], Step [1400/1563], Loss: 0.6388\n",
            "Epoch [8/10], Step [1500/1563], Loss: 0.6377\n",
            "Epoch [9/10], Step [100/1563], Loss: 0.7681\n",
            "Epoch [9/10], Step [200/1563], Loss: 0.8091\n",
            "Epoch [9/10], Step [300/1563], Loss: 0.7431\n",
            "Epoch [9/10], Step [400/1563], Loss: 0.8725\n",
            "Epoch [9/10], Step [500/1563], Loss: 1.1209\n",
            "Epoch [9/10], Step [600/1563], Loss: 1.0110\n",
            "Epoch [9/10], Step [700/1563], Loss: 0.7098\n",
            "Epoch [9/10], Step [800/1563], Loss: 0.8697\n",
            "Epoch [9/10], Step [900/1563], Loss: 0.9197\n",
            "Epoch [9/10], Step [1000/1563], Loss: 0.6108\n",
            "Epoch [9/10], Step [1100/1563], Loss: 0.8108\n",
            "Epoch [9/10], Step [1200/1563], Loss: 1.1749\n",
            "Epoch [9/10], Step [1300/1563], Loss: 0.7283\n",
            "Epoch [9/10], Step [1400/1563], Loss: 0.7626\n",
            "Epoch [9/10], Step [1500/1563], Loss: 0.9201\n",
            "Epoch [10/10], Step [100/1563], Loss: 0.5993\n",
            "Epoch [10/10], Step [200/1563], Loss: 0.9828\n",
            "Epoch [10/10], Step [300/1563], Loss: 0.7690\n",
            "Epoch [10/10], Step [400/1563], Loss: 0.5217\n",
            "Epoch [10/10], Step [500/1563], Loss: 0.9263\n",
            "Epoch [10/10], Step [600/1563], Loss: 0.6583\n",
            "Epoch [10/10], Step [700/1563], Loss: 1.1139\n",
            "Epoch [10/10], Step [800/1563], Loss: 0.6995\n",
            "Epoch [10/10], Step [900/1563], Loss: 0.9234\n",
            "Epoch [10/10], Step [1000/1563], Loss: 0.6844\n",
            "Epoch [10/10], Step [1100/1563], Loss: 0.9112\n",
            "Epoch [10/10], Step [1200/1563], Loss: 1.1662\n",
            "Epoch [10/10], Step [1300/1563], Loss: 0.7652\n",
            "Epoch [10/10], Step [1400/1563], Loss: 0.9959\n",
            "Epoch [10/10], Step [1500/1563], Loss: 0.6505\n"
          ]
        }
      ],
      "source": [
        "seed()\n",
        "\n",
        "loss_log = []\n",
        "\n",
        "# Train the model\n",
        "total_step = len(train_loader)\n",
        "for epoch in range(num_epochs):\n",
        "    for i, (images, labels) in enumerate(train_loader):\n",
        "        # Move tensors to the configured device\n",
        "        images = images.reshape(-1, 32*32*3).to(device)\n",
        "        labels = labels.to(device)\n",
        "\n",
        "        # Forward pass\n",
        "        outputs = model(images)\n",
        "        loss = criterion(outputs, labels)\n",
        "\n",
        "        # Backprpagation and optimization\n",
        "        optimizer.zero_grad()\n",
        "        loss.backward()\n",
        "        optimizer.step()\n",
        "\n",
        "        if (i+1) % 100 == 0:\n",
        "            print ('Epoch [{}/{}], Step [{}/{}], Loss: {:.4f}'\n",
        "                   .format(epoch+1, num_epochs, i+1, total_step, loss.item()))\n",
        "            loss_log.append(loss.data.cpu().numpy())"
      ]
    },
    {
      "cell_type": "code",
      "source": [
        "from matplotlib import pyplot as plt\n",
        "\n",
        "plt.figure(figsize=(10,8))\n",
        "plt.plot(loss_log)"
      ],
      "metadata": {
        "id": "kSbm3gSAFomK",
        "colab": {
          "base_uri": "https://localhost:8080/",
          "height": 693
        },
        "outputId": "3fc5881a-020a-4ef4-bbd0-132aeb588923"
      },
      "execution_count": 9,
      "outputs": [
        {
          "output_type": "execute_result",
          "data": {
            "text/plain": [
              "[<matplotlib.lines.Line2D at 0x7b6656992d10>]"
            ]
          },
          "metadata": {},
          "execution_count": 9
        },
        {
          "output_type": "display_data",
          "data": {
            "text/plain": [
              "<Figure size 1000x800 with 1 Axes>"
            ],
            "image/png": "[encoded data removed]"
          },
          "metadata": {}
        }
      ]
    },
    {
      "cell_type": "code",
      "source": [
        "seed()\n",
        "\n",
        "# Test the model\n",
        "# In the test phase, don't need to compute gradients (for memory efficiency)\n",
        "with torch.no_grad():\n",
        "    correct = 0\n",
        "    total = 0\n",
        "    for images, labels in test_loader:\n",
        "        images = images.reshape(-1, 32*32*3).to(device)\n",
        "        labels = labels.to(device)\n",
        "        outputs = model(images)\n",
        "        _, predicted = torch.max(outputs.data, 1)\n",
        "        total += labels.size(0)\n",
        "        correct += (predicted == labels).sum().item()\n",
        "\n",
        "    print('Accuracy of the network on the test images: {} %'.format(100 * correct / total))\n",
        "\n",
        "# Save the model checkpoint\n",
        "torch.save(model.state_dict(), 'model.ckpt')"
      ],
      "metadata": {
        "id": "yqbF_dRiHfQf",
        "colab": {
          "base_uri": "https://localhost:8080/"
        },
        "outputId": "4a15f8bc-e50c-4e3e-e0a0-51968463d501"
      },
      "execution_count": 10,
      "outputs": [
        {
          "output_type": "stream",
          "name": "stdout",
          "text": [
            "Accuracy of the network on the test images: 53.79 %\n"
          ]
        }
      ]
    }
  ]
}